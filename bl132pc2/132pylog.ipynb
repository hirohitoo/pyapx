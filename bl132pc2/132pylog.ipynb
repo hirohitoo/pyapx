{
 "cells": [
  {
   "cell_type": "code",
   "execution_count": null,
   "id": "c916a42d",
   "metadata": {},
   "outputs": [],
   "source": [
    "import time\n",
    "import csv\n",
    "\n",
    "while True:\n",
    "    try:\n",
    "        \n",
    "        \n",
    "        ser_bytes = ser.readline()\n",
    "        decoded_bytes = float(ser_bytes[0:len(ser_bytes)-2].decode(\"utf-8\"))\n",
    "        print(decoded_bytes)\n",
    "        with open(\"test_data.csv\",\"a\") as f:\n",
    "            writer = csv.writer(f,delimiter=\",\")\n",
    "            writer.writerow([time.time(),decoded_bytes])\n",
    "    except:\n",
    "        print(\"Keyboard Interrupt\")\n",
    "        break"
   ]
  },
  {
   "cell_type": "code",
   "execution_count": null,
   "id": "e7dac920",
   "metadata": {},
   "outputs": [],
   "source": [
    "pvgroup = (epics.PV('XXX'), epics.PV('YYY'), epics.PV('ZZZ'))\n",
    "newvals = (1.0, 2.0,  3.0)\n",
    "for pv, val in zip(pvgroup, newvals):\n",
    "    pv.put(val, use_complete=True)\n",
    "\n",
    "waiting = True\n",
    "while waiting:\n",
    "    time.sleep(0.001)\n",
    "    waiting = not all([pv.put_complete for pv in pvgroup])\n",
    "print 'All puts are done!'"
   ]
  },
  {
   "cell_type": "code",
   "execution_count": 46,
   "id": "ca202b2d",
   "metadata": {},
   "outputs": [
    {
     "name": "stdout",
     "output_type": "stream",
     "text": [
      "132pylog\n",
      "['Time', 'BL132:Iz', 'BL132:Id', 'BL132:Io', 'BL132:Is', 'BL132:m1yaw_2_LVDT', 'BL132:m2pit_2_LVDT', 'BL132:132IG1', 'BL132:132WRG1', 'BL132:132WRG1_HIGH', 'BL132:132WRG1_LOW', 'SPEC:mono132', 'SPEC:gap', 'SPEC:epu', 'SPEC:sgmensz', 'SPEC:m0top', 'SPEC:m0bot', 'SPEC:m0spr', 'SPEC:m0srl', 'SPEC:m0pit', 'SPEC:m0tran', 'SPEC:m1pit', 'SPEC:m1vert', 'SPEC:sgmensw', 'SPEC:sgmpit', 'SPEC:sgmhorz', 'SPEC:exsv_2', 'SPEC:exsh_2', 'SPEC:m1yaw_2', 'SPEC:m1hor_2', 'SPEC:m2pit_2', 'SPEC:m2ver_2', 'APX:AP1', 'APX:AP2', 'APX:HPC', 'APX:HPC01', 'APX:HPC100', 'APX:V0_SCL', 'APX:V0_SOP', 'APX:V1_SCL', 'APX:V1_SOP', 'APX:V2_SCL', 'APX:V2_SOP', 'APX:V3_SCL', 'APX:V3_SOP', 'APX:V4_SCL', 'APX:V4_SOP', 'APX:V5_SCL', 'APX:V5_SOP', 'APX:V6_SCL', 'APX:V6_SOP', 'APX:V7_SCL', 'APX:V7_SOP', 'APX:PREP', 'APX:Theater', 'APX:Tsample', 'APX:OmniaxX', 'APX:OmniaxY', 'APX:OmniaxZ', 'APX:PiezoX', 'APX:PiezoY', 'APX:PiezoZ', 'APX:AXIS0_ZSRL', 'APX:AXIS1_INSRL', 'APX:AXIS2_TRAN', 'APX:AXIS3_SPRSRL', 'APX:AXIS4_INSPR', 'APX:AXIS5_SPRSRL', 'SPEAR:BeamCurrAvg']\n",
      "Keyboard Interrupt\n"
     ]
    }
   ],
   "source": [
    "import time\n",
    "import datetime\n",
    "import csv\n",
    "from epics import caget\n",
    "\n",
    "pvnames =[\"BL132:Iz\",\"BL132:Id\",\"BL132:Io\",\"BL132:Is\",\"BL132:m1yaw_2_LVDT\",\"BL132:m2pit_2_LVDT\",\n",
    "          \"BL132:132IG1\",\"BL132:132WRG1\",\"BL132:132WRG1_HIGH\",\"BL132:132WRG1_LOW\",\n",
    "          \"SPEC:mono132\",\"SPEC:gap\",\"SPEC:epu\",\"SPEC:sgmensz\",\"SPEC:m0top\",\"SPEC:m0bot\",\"SPEC:m0spr\",\"SPEC:m0srl\",\n",
    "          \"SPEC:m0pit\",\"SPEC:m0tran\",\"SPEC:m1pit\",\"SPEC:m1vert\",\n",
    "          \"SPEC:sgmensw\",\"SPEC:sgmpit\",\"SPEC:sgmhorz\",\"SPEC:exsv_2\",\"SPEC:exsh_2\",\n",
    "          \"SPEC:m1yaw_2\",\"SPEC:m1hor_2\",\"SPEC:m2pit_2\",\"SPEC:m2ver_2\",\n",
    "          \"APX:AP1\",\"APX:AP2\",\"APX:HPC\",\"APX:HPC01\",\"APX:HPC100\",\n",
    "          \"APX:V0_SCL\",\"APX:V0_SOP\",\"APX:V1_SCL\",\"APX:V1_SOP\",\"APX:V2_SCL\",\"APX:V2_SOP\",\"APX:V3_SCL\",\"APX:V3_SOP\",\n",
    "          \"APX:V4_SCL\",\"APX:V4_SOP\",\"APX:V5_SCL\",\"APX:V5_SOP\",\"APX:V6_SCL\",\"APX:V6_SOP\",\"APX:V7_SCL\",\"APX:V7_SOP\",\n",
    "          \"APX:PREP\",\"APX:Theater\",\"APX:Tsample\",\n",
    "          \"APX:OmniaxX\",\"APX:OmniaxY\",\"APX:OmniaxZ\",\n",
    "          \"APX:PiezoX\",\"APX:PiezoY\",\"APX:PiezoZ\",\n",
    "          \"APX:AXIS0_ZSRL\",\"APX:AXIS1_INSRL\",\"APX:AXIS2_TRAN\",\"APX:AXIS3_SPRSRL\",\"APX:AXIS4_INSPR\",\"APX:AXIS5_SPRSRL\",\n",
    "          \"SPEAR:BeamCurrAvg\"]\n",
    "\n",
    "pvnames0 =['Time']\n",
    "pvnames0=pvnames0+pvnames\n",
    "print('132pylog')\n",
    "print(pvnames0)\n",
    "\n",
    "while True:\n",
    "    try:\n",
    "\n",
    "        pvs =[datetime.datetime.now().strftime(\"%Y%m%d%H%M%S\")]\n",
    "        \n",
    "        for val in pvnames:\n",
    "            pvs.append(caget(val))\n",
    "        filename1 = './data/'+datetime.datetime.now().strftime(\"%Y%m%d\")+'.csv'\n",
    "        with open(filename1,\"a\",newline='') as f:\n",
    "            writer =csv.writer(f)#,delimiter=\",\")\n",
    "            #writer.writeheader(pvnames0)\n",
    "            writer.writerow(pvs)\n",
    "#print(pvs)   \n",
    "\n",
    "        time.sleep(10)\n",
    "    except:\n",
    "        print(\"Keyboard Interrupt\")\n",
    "        break\n",
    "#with open(filename1,\"a\") as f:\n",
    "#writer = csv.writer(f,delimiter=\",\")\n",
    "#writer.writerow([time.time(),decoded_bytes])"
   ]
  },
  {
   "cell_type": "code",
   "execution_count": 41,
   "id": "a1605b15",
   "metadata": {},
   "outputs": [
    {
     "name": "stdout",
     "output_type": "stream",
     "text": [
      "20210527.csv\n"
     ]
    }
   ],
   "source": [
    "import time\n",
    "import datetime\n",
    "filename1 = datetime.datetime.now().strftime(\"%Y%m%d\")+'.csv'\n",
    "\n",
    "print(filename1)"
   ]
  },
  {
   "cell_type": "code",
   "execution_count": 11,
   "id": "6d4a5738",
   "metadata": {},
   "outputs": [],
   "source": [
    "pvnames =[\"BL132:Iz\",\"BL132:Id\",\"BL132:Io\",\"BL132:Is\",\"BL132:m1yaw_2_LVDT\",\"BL132:m2pit_2_LVDT\",\n",
    "          \"BL132:132IG1\",\"BL132:132WRG1\",\"BL132:132WRG1_HIGH\",\"BL132:132WRG1_LOW\",\n",
    "          \"SPEC:mono132\",\"SPEC:gap\",\"SPEC:epu\",\"SPEC:sgmensz\",\"SPEC:m0top\",\"SPEC:m0bot\",\"SPEC:m0spr\",\"SPEC:m0srl\",\n",
    "          \"SPEC:m0pit\",\"SPEC:m0tran\",\"SPEC:m1pit\",\"SPEC:m1vert\",\n",
    "          \"SPEC:sgmensw\",\"SPEC:sgmpit\",\"SPEC:sgmhorz\",\"SPEC:exsv_2\",\"SPEC:exsh_2\",\n",
    "          \"SPEC:m1yaw_2\",\"SPEC:m1hor_2\",\"SPEC:m2pit_2\",\"SPEC:m2ver_2\",\n",
    "          \"APX:AP1\",\"APX:AP2\",\"APX:HPC\",\"APX:HPC01\",\"APX:HPC100\",\n",
    "          \"APX:V0_SCL\",\"APX:V0_SOP\",\"APX:V1_SCL\",\"APX:V1_SOP\",\"APX:V2_SCL\",\"APX:V2_SOP\",\"APX:V3_SCL\",\"APX:V3_SOP\",\n",
    "          \"APX:V4_SCL\",\"APX:V4_SOP\",\"APX:V5_SCL\",\"APX:V5_SOP\",\"APX:V6_SCL\",\"APX:V6_SOP\",\"APX:V7_SCL\",\"APX:V7_SOP\",\n",
    "          \"APX:PREP\",\"APX:Theater\",\"APX:Tsample\",\n",
    "          \"APX:OmniaxX\",\"APX:OmniaxY\",\"APX:OmniaxZ\",\n",
    "          \"APX:PiezoX\",\"APX:PiezoY\",\"APX:PiezoZ\",\n",
    "          \"APX:AXIS0_ZSRL\",\"APX:AXIS1_INSRL\",\"APX:AXIS2_TRAN\",\"APX:AXIS3_SPRSRL\",\"APX:AXIS4_INSPR\",\"APX:AXIS5_SPRSRL\",\n",
    "          \"SPEAR:BeamCurrAvg\"]"
   ]
  },
  {
   "cell_type": "code",
   "execution_count": 10,
   "id": "d97317af",
   "metadata": {},
   "outputs": [
    {
     "name": "stdout",
     "output_type": "stream",
     "text": [
      "['BL132:Iz', 'BL132:Id', 'BL132:Io', 'BL132:Is', 'BL132:m1yaw_2_LVDT', 'BL132:m2pit_2_LVDT', 'BL132:132IG1', 'BL132:132WRG1']\n"
     ]
    }
   ],
   "source": [
    "print(pvnames)"
   ]
  },
  {
   "cell_type": "code",
   "execution_count": 23,
   "id": "aa9ba46c",
   "metadata": {},
   "outputs": [
    {
     "name": "stdout",
     "output_type": "stream",
     "text": [
      "20210527011035\n"
     ]
    }
   ],
   "source": [
    "print(datetime.datetime.now().strftime(\"%Y%m%d%H%M%S\"))"
   ]
  },
  {
   "cell_type": "code",
   "execution_count": 26,
   "id": "4acffda4",
   "metadata": {},
   "outputs": [
    {
     "name": "stdout",
     "output_type": "stream",
     "text": [
      "-0.011766534347421864\n"
     ]
    }
   ],
   "source": [
    "print(caget(\"BL132:Iz\"))"
   ]
  },
  {
   "cell_type": "code",
   "execution_count": null,
   "id": "d537a8a3",
   "metadata": {},
   "outputs": [],
   "source": []
  }
 ],
 "metadata": {
  "kernelspec": {
   "display_name": "Python 3",
   "language": "python",
   "name": "python3"
  },
  "language_info": {
   "codemirror_mode": {
    "name": "ipython",
    "version": 3
   },
   "file_extension": ".py",
   "mimetype": "text/x-python",
   "name": "python",
   "nbconvert_exporter": "python",
   "pygments_lexer": "ipython3",
   "version": "3.6.13"
  }
 },
 "nbformat": 4,
 "nbformat_minor": 5
}
